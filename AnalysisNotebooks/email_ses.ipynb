{
 "cells": [
  {
   "cell_type": "code",
   "execution_count": 8,
   "id": "67de2c35-e1b6-4a1d-990d-3f274a88c7d1",
   "metadata": {},
   "outputs": [
    {
     "name": "stdout",
     "output_type": "stream",
     "text": [
      "Email sent! Message ID:\n",
      "0101019313a698e8-1defda56-5b7a-4bf7-9d4a-baee4d27dcee-000000\n"
     ]
    }
   ],
   "source": [
    "import boto3\n",
    "from botocore.exceptions import ClientError\n",
    "\n",
    "# AWS SES Configuration\n",
    "AWS_REGION = \"us-west-2\"  # change to your SES region\n",
    "SENDER = \"patlolla.akhil@gmail.com\"  # Verified sender email address\n",
    "RECIPIENT = \"patlolla.akhil@gmail.com\"  # Verified recipient email address\n",
    "SUBJECT = \"Test email from Amazon SES\"\n",
    "BODY_TEXT = \"Hello,\\n\\nThis is a test email sent from Amazon SES using Python!\"\n",
    "BODY_HTML = \"\"\"<html>\n",
    "  <head></head>\n",
    "  <body>\n",
    "    <h1>Hello</h1>\n",
    "    <p>This is a test email sent from Amazon SES using Python!</p>\n",
    "  </body>\n",
    "</html>\"\"\"\n",
    "\n",
    "CHARSET = \"UTF-8\"\n",
    "\n",
    "# Initialize the SES client\n",
    "ses_client = boto3.client(\"ses\", region_name=AWS_REGION)\n",
    "\n",
    "# Send Email\n",
    "def send_email():\n",
    "    try:\n",
    "        response = ses_client.send_email(\n",
    "            Source=SENDER,\n",
    "            Destination={\n",
    "                \"ToAddresses\": [RECIPIENT],\n",
    "            },\n",
    "            Message={\n",
    "                \"Subject\": {\n",
    "                    \"Data\": SUBJECT,\n",
    "                    \"Charset\": CHARSET,\n",
    "                },\n",
    "                \"Body\": {\n",
    "                    \"Text\": {\n",
    "                        \"Data\": BODY_TEXT,\n",
    "                        \"Charset\": CHARSET,\n",
    "                    },\n",
    "                    \"Html\": {\n",
    "                        \"Data\": BODY_HTML,\n",
    "                        \"Charset\": CHARSET,\n",
    "                    },\n",
    "                },\n",
    "            },\n",
    "        )\n",
    "        print(\"Email sent! Message ID:\"),\n",
    "        print(response[\"MessageId\"])\n",
    "    except ClientError as e:\n",
    "        print(f\"Error sending email: {e.response['Error']['Message']}\")\n",
    "\n",
    "# Run the send_email function\n",
    "send_email()\n"
   ]
  },
  {
   "cell_type": "code",
   "execution_count": null,
   "id": "dec43d2e-2929-4b23-9022-bcb847c2d9dd",
   "metadata": {},
   "outputs": [],
   "source": []
  }
 ],
 "metadata": {
  "kernelspec": {
   "display_name": "Python 3 (ipykernel)",
   "language": "python",
   "name": "python3"
  },
  "language_info": {
   "codemirror_mode": {
    "name": "ipython",
    "version": 3
   },
   "file_extension": ".py",
   "mimetype": "text/x-python",
   "name": "python",
   "nbconvert_exporter": "python",
   "pygments_lexer": "ipython3",
   "version": "3.12.7"
  }
 },
 "nbformat": 4,
 "nbformat_minor": 5
}
